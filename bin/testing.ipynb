{
 "cells": [
  {
   "cell_type": "code",
   "execution_count": 1,
   "metadata": {},
   "outputs": [],
   "source": [
    "from flask import Flask, make_response, jsonify\n",
    "import numpy as np\n",
    "from flask_cors import CORS\n",
    "#from flask_compress import Compress\n",
    "app = Flask(__name__)\n",
    "#Compress(app)\n",
    "CORS(app)\n",
    "from glob import glob\n",
    "from retrodetect.image_processing import getblockmaxedimage\n",
    "\n",
    "import argparse\n",
    "import webbrowser\n",
    "import os\n",
    "import re\n",
    "import retrodetect\n",
    "import pickle\n",
    "from datetime import datetime\n",
    "import numpy as np\n"
   ]
  },
  {
   "cell_type": "code",
   "execution_count": 2,
   "metadata": {},
   "outputs": [
    {
     "name": "stdout",
     "output_type": "stream",
     "text": [
      "Absolute path to images:\n",
      "c:\\Users\\cs1sch\\PycharmProjects\\bee_track\\bin\\Data\n"
     ]
    }
   ],
   "source": [
    "pathtoimgsdir = 'Data'\n",
    "print(\"Absolute path to images:\")\n",
    "print(os.path.abspath(pathtoimgsdir))\n",
    "pathtoimgsdir = os.path.abspath(pathtoimgsdir)\n",
    "pathtoimgs = sorted(glob(pathtoimgsdir+'/*/'))"
   ]
  },
  {
   "cell_type": "code",
   "execution_count": 3,
   "metadata": {},
   "outputs": [
    {
     "data": {
      "text/plain": [
       "'c:\\\\Users\\\\cs1sch\\\\PycharmProjects\\\\bee_track\\\\bin\\\\Data'"
      ]
     },
     "execution_count": 3,
     "metadata": {},
     "output_type": "execute_result"
    }
   ],
   "source": [
    "pathtoimgsdir"
   ]
  },
  {
   "cell_type": "code",
   "execution_count": 4,
   "metadata": {},
   "outputs": [
    {
     "name": "stdout",
     "output_type": "stream",
     "text": [
      "Found the following camera folders:\n"
     ]
    },
    {
     "data": {
      "text/plain": [
       "['c:\\\\Users\\\\cs1sch\\\\PycharmProjects\\\\bee_track\\\\bin\\\\Data\\\\folder1\\\\']"
      ]
     },
     "execution_count": 4,
     "metadata": {},
     "output_type": "execute_result"
    }
   ],
   "source": [
    "if (len(pathtoimgs)==0):\n",
    "    print(\"Failed to find any folders in the path, using base path given as camera folder.\")\n",
    "    pathtoimgs = [pathtoimgsdir]\n",
    "print(\"Found the following camera folders:\")\n",
    "pathtoimgs\n",
    "    "
   ]
  },
  {
   "cell_type": "code",
   "execution_count": 5,
   "metadata": {},
   "outputs": [
    {
     "name": "stdout",
     "output_type": "stream",
     "text": [
      "c:\\Users\\cs1sch\\PycharmProjects\\bee_track\\bin\\Data\\config_unnamed.json\n"
     ]
    }
   ],
   "source": [
    "configfilename = pathtoimgsdir+'\\config_unnamed.json'\n",
    "print(configfilename)"
   ]
  },
  {
   "cell_type": "markdown",
   "metadata": {},
   "source": [
    "#functions for  the cell below\n",
    "#line 147 - 149 \n",
    "camera_ids = []\n",
    "for pti in pathtoimgs:\n",
    "    camera_ids.append(getorderedcamids(pti))"
   ]
  },
  {
   "cell_type": "code",
   "execution_count": 6,
   "metadata": {},
   "outputs": [],
   "source": [
    "def getimgfilelist(path,camid=None):\n",
    "    if camid is not None:\n",
    "        return sorted(glob('%s/*%s*.np'%(path,camid)))\n",
    "    else:\n",
    "        return sorted(glob('%s/*.np'%(path)))"
   ]
  },
  {
   "cell_type": "code",
   "execution_count": 8,
   "metadata": {},
   "outputs": [
    {
     "data": {
      "text/plain": [
       "'c:\\\\Users\\\\cs1sch\\\\PycharmProjects\\\\bee_track\\\\bin\\\\Data\\\\folder1\\\\'"
      ]
     },
     "execution_count": 8,
     "metadata": {},
     "output_type": "execute_result"
    }
   ],
   "source": [
    "path = pathtoimgs[0]\n",
    "path\n"
   ]
  },
  {
   "cell_type": "code",
   "execution_count": 9,
   "metadata": {},
   "outputs": [
    {
     "data": {
      "text/plain": [
       "['c:\\\\Users\\\\cs1sch\\\\PycharmProjects\\\\bee_track\\\\bin\\\\Data\\\\folder1\\\\photo_object_20200608_12_10_09.840058_0258.np',\n",
       " 'c:\\\\Users\\\\cs1sch\\\\PycharmProjects\\\\bee_track\\\\bin\\\\Data\\\\folder1\\\\photo_object_20200608_12_10_09.884148_0259.np',\n",
       " 'c:\\\\Users\\\\cs1sch\\\\PycharmProjects\\\\bee_track\\\\bin\\\\Data\\\\folder1\\\\photo_object_20200608_12_10_15.815856_0260.np',\n",
       " 'c:\\\\Users\\\\cs1sch\\\\PycharmProjects\\\\bee_track\\\\bin\\\\Data\\\\folder1\\\\photo_object_20200608_12_10_15.859763_0261.np',\n",
       " 'c:\\\\Users\\\\cs1sch\\\\PycharmProjects\\\\bee_track\\\\bin\\\\Data\\\\folder1\\\\photo_object_20200608_12_10_21.791438_0262.np',\n",
       " 'c:\\\\Users\\\\cs1sch\\\\PycharmProjects\\\\bee_track\\\\bin\\\\Data\\\\folder1\\\\photo_object_20200608_12_10_21.835453_0263.np',\n",
       " 'c:\\\\Users\\\\cs1sch\\\\PycharmProjects\\\\bee_track\\\\bin\\\\Data\\\\folder1\\\\photo_object_20200608_12_10_27.767172_0264.np',\n",
       " 'c:\\\\Users\\\\cs1sch\\\\PycharmProjects\\\\bee_track\\\\bin\\\\Data\\\\folder1\\\\photo_object_20200608_12_10_27.811075_0265.np',\n",
       " 'c:\\\\Users\\\\cs1sch\\\\PycharmProjects\\\\bee_track\\\\bin\\\\Data\\\\folder1\\\\photo_object_20200608_12_10_33.743034_0266.np',\n",
       " 'c:\\\\Users\\\\cs1sch\\\\PycharmProjects\\\\bee_track\\\\bin\\\\Data\\\\folder1\\\\photo_object_20200608_12_10_33.786972_0267.np',\n",
       " 'c:\\\\Users\\\\cs1sch\\\\PycharmProjects\\\\bee_track\\\\bin\\\\Data\\\\folder1\\\\photo_object_20200608_12_10_39.718760_0268.np',\n",
       " 'c:\\\\Users\\\\cs1sch\\\\PycharmProjects\\\\bee_track\\\\bin\\\\Data\\\\folder1\\\\photo_object_20200608_12_10_39.762708_0269.np',\n",
       " 'c:\\\\Users\\\\cs1sch\\\\PycharmProjects\\\\bee_track\\\\bin\\\\Data\\\\folder1\\\\photo_object_20200608_12_10_45.694496_0270.np',\n",
       " 'c:\\\\Users\\\\cs1sch\\\\PycharmProjects\\\\bee_track\\\\bin\\\\Data\\\\folder1\\\\photo_object_20200608_12_10_45.738438_0271.np',\n",
       " 'c:\\\\Users\\\\cs1sch\\\\PycharmProjects\\\\bee_track\\\\bin\\\\Data\\\\folder1\\\\photo_object_20200608_12_10_51.670328_0272.np',\n",
       " 'c:\\\\Users\\\\cs1sch\\\\PycharmProjects\\\\bee_track\\\\bin\\\\Data\\\\folder1\\\\photo_object_20200608_12_10_51.714401_0273.np',\n",
       " 'c:\\\\Users\\\\cs1sch\\\\PycharmProjects\\\\bee_track\\\\bin\\\\Data\\\\folder1\\\\photo_object_20200608_12_10_57.646205_0274.np',\n",
       " 'c:\\\\Users\\\\cs1sch\\\\PycharmProjects\\\\bee_track\\\\bin\\\\Data\\\\folder1\\\\photo_object_20200608_12_10_57.692140_0275.np',\n",
       " 'c:\\\\Users\\\\cs1sch\\\\PycharmProjects\\\\bee_track\\\\bin\\\\Data\\\\folder1\\\\photo_object_20200608_12_11_03.624015_0276.np',\n",
       " 'c:\\\\Users\\\\cs1sch\\\\PycharmProjects\\\\bee_track\\\\bin\\\\Data\\\\folder1\\\\photo_object_20200608_12_11_03.667874_0277.np',\n",
       " 'c:\\\\Users\\\\cs1sch\\\\PycharmProjects\\\\bee_track\\\\bin\\\\Data\\\\folder1\\\\photo_object_20200608_12_11_09.597830_0278.np',\n",
       " 'c:\\\\Users\\\\cs1sch\\\\PycharmProjects\\\\bee_track\\\\bin\\\\Data\\\\folder1\\\\photo_object_20200608_12_11_09.641647_0279.np',\n",
       " 'c:\\\\Users\\\\cs1sch\\\\PycharmProjects\\\\bee_track\\\\bin\\\\Data\\\\folder1\\\\photo_object_20200608_12_11_15.571779_0280.np',\n",
       " 'c:\\\\Users\\\\cs1sch\\\\PycharmProjects\\\\bee_track\\\\bin\\\\Data\\\\folder1\\\\photo_object_20200608_12_11_15.615782_0281.np',\n",
       " 'c:\\\\Users\\\\cs1sch\\\\PycharmProjects\\\\bee_track\\\\bin\\\\Data\\\\folder1\\\\photo_object_20200608_12_11_30.946280_0282.np',\n",
       " 'c:\\\\Users\\\\cs1sch\\\\PycharmProjects\\\\bee_track\\\\bin\\\\Data\\\\folder1\\\\photo_object_20200608_12_11_30.990241_0283.np',\n",
       " 'c:\\\\Users\\\\cs1sch\\\\PycharmProjects\\\\bee_track\\\\bin\\\\Data\\\\folder1\\\\photo_object_20200608_12_11_36.922227_0284.np',\n",
       " 'c:\\\\Users\\\\cs1sch\\\\PycharmProjects\\\\bee_track\\\\bin\\\\Data\\\\folder1\\\\photo_object_20200608_12_11_36.966133_0285.np',\n",
       " 'c:\\\\Users\\\\cs1sch\\\\PycharmProjects\\\\bee_track\\\\bin\\\\Data\\\\folder1\\\\photo_object_20200608_12_11_42.897836_0286.np',\n",
       " 'c:\\\\Users\\\\cs1sch\\\\PycharmProjects\\\\bee_track\\\\bin\\\\Data\\\\folder1\\\\photo_object_20200608_12_11_42.941731_0287.np',\n",
       " 'c:\\\\Users\\\\cs1sch\\\\PycharmProjects\\\\bee_track\\\\bin\\\\Data\\\\folder1\\\\photo_object_20200608_12_11_48.873728_0288.np',\n",
       " 'c:\\\\Users\\\\cs1sch\\\\PycharmProjects\\\\bee_track\\\\bin\\\\Data\\\\folder1\\\\photo_object_20200608_12_11_48.917624_0289.np',\n",
       " 'c:\\\\Users\\\\cs1sch\\\\PycharmProjects\\\\bee_track\\\\bin\\\\Data\\\\folder1\\\\photo_object_20200608_12_11_54.849402_0290.np',\n",
       " 'c:\\\\Users\\\\cs1sch\\\\PycharmProjects\\\\bee_track\\\\bin\\\\Data\\\\folder1\\\\photo_object_20200608_12_11_54.893478_0291.np',\n",
       " 'c:\\\\Users\\\\cs1sch\\\\PycharmProjects\\\\bee_track\\\\bin\\\\Data\\\\folder1\\\\photo_object_20200608_12_12_00.825261_0292.np',\n",
       " 'c:\\\\Users\\\\cs1sch\\\\PycharmProjects\\\\bee_track\\\\bin\\\\Data\\\\folder1\\\\photo_object_20200608_12_12_00.869246_0293.np',\n",
       " 'c:\\\\Users\\\\cs1sch\\\\PycharmProjects\\\\bee_track\\\\bin\\\\Data\\\\folder1\\\\photo_object_20200608_12_12_06.799266_0294.np',\n",
       " 'c:\\\\Users\\\\cs1sch\\\\PycharmProjects\\\\bee_track\\\\bin\\\\Data\\\\folder1\\\\photo_object_20200608_12_12_06.841418_0295.np',\n",
       " 'c:\\\\Users\\\\cs1sch\\\\PycharmProjects\\\\bee_track\\\\bin\\\\Data\\\\folder1\\\\photo_object_20200608_12_12_52.363452_0296.np',\n",
       " 'c:\\\\Users\\\\cs1sch\\\\PycharmProjects\\\\bee_track\\\\bin\\\\Data\\\\folder1\\\\photo_object_20200608_12_12_52.407360_0297.np',\n",
       " 'c:\\\\Users\\\\cs1sch\\\\PycharmProjects\\\\bee_track\\\\bin\\\\Data\\\\folder1\\\\photo_object_20200608_12_12_58.335788_0298.np',\n",
       " 'c:\\\\Users\\\\cs1sch\\\\PycharmProjects\\\\bee_track\\\\bin\\\\Data\\\\folder1\\\\photo_object_20200608_12_12_58.379767_0299.np']"
      ]
     },
     "execution_count": 9,
     "metadata": {},
     "output_type": "execute_result"
    }
   ],
   "source": [
    "fns = getimgfilelist(path)\n",
    "fns"
   ]
  },
  {
   "cell_type": "code",
   "execution_count": 10,
   "metadata": {},
   "outputs": [],
   "source": [
    "def getcamfromfilename(fn):\n",
    "    res = re.findall('photo_object_([0-9A-Z]*)_[0-9]{8}_',fn)\n",
    "    if len(res)==0:\n",
    "        return None\n",
    "    else:\n",
    "        return res[0]"
   ]
  },
  {
   "cell_type": "code",
   "execution_count": 12,
   "metadata": {},
   "outputs": [
    {
     "name": "stdout",
     "output_type": "stream",
     "text": [
      "None\n",
      "None\n",
      "None\n",
      "None\n",
      "None\n",
      "None\n",
      "None\n",
      "None\n",
      "None\n",
      "None\n",
      "None\n",
      "None\n",
      "None\n",
      "None\n",
      "None\n",
      "None\n",
      "None\n",
      "None\n",
      "None\n",
      "None\n",
      "None\n",
      "None\n",
      "None\n",
      "None\n",
      "None\n",
      "None\n",
      "None\n",
      "None\n",
      "None\n",
      "None\n",
      "None\n",
      "None\n",
      "None\n",
      "None\n",
      "None\n",
      "None\n",
      "None\n",
      "None\n",
      "None\n",
      "None\n",
      "None\n",
      "None\n"
     ]
    }
   ],
   "source": [
    "for fn in fns:\n",
    "    a = getcamfromfilename(fn)\n",
    "    print(a)"
   ]
  },
  {
   "cell_type": "code",
   "execution_count": null,
   "metadata": {},
   "outputs": [],
   "source": [
    "def getorderedcamids(path):\n",
    "    \"\"\"\n",
    "    Returns camera ids with greyscale ones first\n",
    "    \"\"\"\n",
    "    fns = getimgfilelist(path)\n",
    "    cam_ids = list(set([getcamfromfilename(fn) for fn in fns if getcamfromfilename(fn) is not None]))\n",
    "    return [cam_id for cam_id in cam_ids if guesscamtype(path,cam_id)=='greyscale']+[cam_id for cam_id in cam_ids if guesscamtype(path,cam_id)=='colour']\n"
   ]
  },
  {
   "cell_type": "code",
   "execution_count": null,
   "metadata": {},
   "outputs": [],
   "source": [
    "#line 147 - 149 \n",
    "camera_ids = []\n",
    "for pti in pathtoimgs:\n",
    "    camera_ids.append(getorderedcamids(pti))"
   ]
  }
 ],
 "metadata": {
  "kernelspec": {
   "display_name": ".venv",
   "language": "python",
   "name": "python3"
  },
  "language_info": {
   "codemirror_mode": {
    "name": "ipython",
    "version": 3
   },
   "file_extension": ".py",
   "mimetype": "text/x-python",
   "name": "python",
   "nbconvert_exporter": "python",
   "pygments_lexer": "ipython3",
   "version": "3.11.0"
  }
 },
 "nbformat": 4,
 "nbformat_minor": 2
}
